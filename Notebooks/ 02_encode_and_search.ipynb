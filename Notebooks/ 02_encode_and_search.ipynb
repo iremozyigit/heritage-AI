{
 "cells": [
  {
   "cell_type": "code",
   "execution_count": 1,
   "id": "a5266c8b-29c4-4310-b825-5303aefc4662",
   "metadata": {},
   "outputs": [
    {
     "name": "stderr",
     "output_type": "stream",
     "text": [
      "/Users/Irem/anaconda3/envs/heritage-ai/lib/python3.10/site-packages/tqdm/auto.py:21: TqdmWarning: IProgress not found. Please update jupyter and ipywidgets. See https://ipywidgets.readthedocs.io/en/stable/user_install.html\n",
      "  from .autonotebook import tqdm as notebook_tqdm\n"
     ]
    },
    {
     "name": "stdout",
     "output_type": "stream",
     "text": [
      "✅ Loaded dataset\n"
     ]
    },
    {
     "name": "stderr",
     "output_type": "stream",
     "text": [
      "Xet Storage is enabled for this repo, but the 'hf_xet' package is not installed. Falling back to regular HTTP download. For better performance, install the package with: `pip install huggingface_hub[hf_xet]` or `pip install hf_xet`\n"
     ]
    },
    {
     "name": "stdout",
     "output_type": "stream",
     "text": [
      "✅ Loaded encoder model: sentence-transformers/all-MiniLM-L6-v2\n"
     ]
    },
    {
     "name": "stderr",
     "output_type": "stream",
     "text": [
      "Batches: 100%|████████████████████████████████████| 1/1 [00:02<00:00,  2.46s/it]\n"
     ]
    },
    {
     "name": "stdout",
     "output_type": "stream",
     "text": [
      "✅ Encoded 5 artworks\n",
      "✅ FAISS index built with 5 items\n",
      "\n",
      "🔎 Results for query: 'paintings about emotional night skies'\n",
      "\n",
      "🎨 The Starry Night by Vincent van Gogh (1889)\n",
      "   Style: Post-Impressionism\n",
      "   Description: A swirling night sky over a quiet village, representing emotional turbulence and wonder.\n",
      "\n",
      "🎨 Girl with a Pearl Earring by Johannes Vermeer (1665)\n",
      "   Style: Baroque\n",
      "   Description: A portrait of a girl turning towards the viewer, characterized by soft light and mysterious gaze.\n",
      "\n",
      "🎨 Composition VIII by Wassily Kandinsky (1923)\n",
      "   Style: Abstract Art\n",
      "   Description: A complex composition of geometric shapes and lively colors, representing a symphony of abstract forms.\n",
      "\n"
     ]
    }
   ],
   "source": [
    "import pandas as pd\n",
    "from sentence_transformers import SentenceTransformer\n",
    "import faiss\n",
    "import numpy as np\n",
    "\n",
    "# 1. Load the mock dataset\n",
    "df = pd.read_json(\"../data/mock_artwork_metadata.json\")\n",
    "print(\"Loaded dataset\")\n",
    "df.head()\n",
    "\n",
    "# 2. Initialize the text encoder (using a pretrained model from HuggingFace)\n",
    "model_name = \"sentence-transformers/all-MiniLM-L6-v2\"\n",
    "encoder = SentenceTransformer(model_name)\n",
    "print(f\"Loaded encoder model: {model_name}\")\n",
    "\n",
    "# 3. Create text representations (embeddings) for each artwork\n",
    "texts_to_encode = (\n",
    "    df['title'] + \" - \" + \n",
    "    df['artist'] + \" - \" + \n",
    "    df['description'] + \" - \" + \n",
    "    df['style']\n",
    ").tolist()\n",
    "\n",
    "embeddings = encoder.encode(texts_to_encode, convert_to_numpy=True, show_progress_bar=True)\n",
    "print(f\"Encoded {len(embeddings)} artworks\")\n",
    "\n",
    "# 4. Build a FAISS index for fast retrieval\n",
    "dimension = embeddings.shape[1]  # size of embedding vectors\n",
    "index = faiss.IndexFlatL2(dimension)\n",
    "index.add(embeddings)\n",
    "print(f\"FAISS index built with {index.ntotal} items\")\n",
    "\n",
    "# 5. Define a search function\n",
    "def search_artworks(query, top_k=3):\n",
    "    query_embedding = encoder.encode([query], convert_to_numpy=True)\n",
    "    distances, indices = index.search(query_embedding, top_k)\n",
    "    results = df.iloc[indices[0]]\n",
    "    return results\n",
    "\n",
    "# 6. Test the search\n",
    "user_query = \"paintings about emotional night skies\"\n",
    "results = search_artworks(user_query, top_k=3)\n",
    "\n",
    "print(f\"\\n🔎 Results for query: '{user_query}'\\n\")\n",
    "for idx, row in results.iterrows():\n",
    "    print(f\"{row['title']} by {row['artist']} ({row['year']})\")\n",
    "    print(f\"   Style: {row['style']}\")\n",
    "    print(f\"   Description: {row['description']}\")\n",
    "    print()"
   ]
  },
  {
   "cell_type": "code",
   "execution_count": null,
   "id": "c15d6578-e6d0-4f43-9aea-6c818a405b9c",
   "metadata": {},
   "outputs": [],
   "source": [
    "#Step\tAction\n",
    "#1\tLoads your mock dataset from the JSON.\n",
    "#2\tLoads a lightweight sentence-transformer (MiniLM model).\n",
    "#3\tEncodes all artworks into vector embeddings.\n",
    "#4\tBuilds a FAISS index to search artworks efficiently.\n",
    "#5\tDefines a simple search function you can use anytime.\n",
    "#6\tRuns a sample search query to retrieve artworks!"
   ]
  }
 ],
 "metadata": {
  "kernelspec": {
   "display_name": "Python 3 (ipykernel)",
   "language": "python",
   "name": "python3"
  },
  "language_info": {
   "codemirror_mode": {
    "name": "ipython",
    "version": 3
   },
   "file_extension": ".py",
   "mimetype": "text/x-python",
   "name": "python",
   "nbconvert_exporter": "python",
   "pygments_lexer": "ipython3",
   "version": "3.11.5"
  }
 },
 "nbformat": 4,
 "nbformat_minor": 5
}
