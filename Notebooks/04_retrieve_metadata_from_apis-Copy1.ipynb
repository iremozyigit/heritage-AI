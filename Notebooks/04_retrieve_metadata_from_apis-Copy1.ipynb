{
 "cells": [
  {
   "cell_type": "code",
   "execution_count": 12,
   "id": "62eb8020-386d-44c3-865b-acea936cdb37",
   "metadata": {},
   "outputs": [
    {
     "name": "stderr",
     "output_type": "stream",
     "text": [
      "100%|████████████████████████████████████████| 10/10 [00:00<00:00, 84733.41it/s]\n",
      "100%|███████████████████████████████████████████| 10/10 [00:09<00:00,  1.03it/s]"
     ]
    },
    {
     "name": "stdout",
     "output_type": "stream",
     "text": [
      "✅ Successfully saved to '../data/real_museum_metadata.json'\n"
     ]
    },
    {
     "name": "stderr",
     "output_type": "stream",
     "text": [
      "\n"
     ]
    }
   ],
   "source": [
    "# 04_retrieve_metadata_from_apis.ipynb\n",
    "\n",
    "import requests\n",
    "import pandas as pd\n",
    "import time\n",
    "from tqdm import tqdm\n",
    "import random\n",
    "\n",
    "# 1. Set your Rijksmuseum API Key\n",
    "RIJKSMUSEUM_API_KEY = \"PWJQNj1Q\"\n",
    "\n",
    "# 2. Define the API endpoint\n",
    "RIJKSMUSEUM_ENDPOINT = \"https://www.rijksmuseum.nl/api/en/collection\"\n",
    "\n",
    "# 3. Define a function to search artworks\n",
    "def search_rijksmuseum(query, max_items=10):\n",
    "    random_page = random.randint(1, 100)  # Randomly choose a page between 1–10\n",
    "    params = {\n",
    "        \"key\": RIJKSMUSEUM_API_KEY,\n",
    "        \"format\": \"json\",\n",
    "        \"q\": query,\n",
    "        \"ps\": 100,        # Page size (max 100)\n",
    "        \"p\": random_page  # ✅ Add this line to apply random page\n",
    "        \n",
    "    }\n",
    "    response = requests.get(RIJKSMUSEUM_ENDPOINT, params=params)\n",
    "    response.raise_for_status()\n",
    "    data = response.json()\n",
    "    artworks = []\n",
    "    \n",
    "    for art_obj in tqdm(data.get('artObjects', [])[:max_items]):\n",
    "        artwork = {\n",
    "            \"id\": art_obj.get(\"objectNumber\"),\n",
    "            \"title\": art_obj.get(\"title\"),\n",
    "            \"artist\": art_obj.get(\"principalOrFirstMaker\"),\n",
    "            \"longTitle\": art_obj.get(\"longTitle\"),\n",
    "            \"image_url\": art_obj.get(\"webImage\", {}).get(\"url\", None),\n",
    "            \"description\": None  # will fill later if available\n",
    "        }\n",
    "        artworks.append(artwork)\n",
    "    \n",
    "    return artworks\n",
    "\n",
    "# 4. Optional: function to fetch detailed description (if available)\n",
    "def fetch_artwork_details(object_number):\n",
    "    details_url = f\"https://www.rijksmuseum.nl/api/en/collection/{object_number}\"\n",
    "    params = {\n",
    "        \"key\": RIJKSMUSEUM_API_KEY,\n",
    "        \"format\": \"json\",\n",
    "    }\n",
    "    response = requests.get(details_url, params=params)\n",
    "    response.raise_for_status()\n",
    "    data = response.json()\n",
    "    \n",
    "    description = data.get('artObject', {}).get('label', {}).get('description', None)\n",
    "    return description\n",
    "\n",
    "# 5. Collect artworks\n",
    "search_query = \"painting\"  # You can change this later\n",
    "artworks = search_rijksmuseum(search_query, max_items=10)\n",
    "\n",
    "# 6. Remove duplicate artworks based on unique ID\n",
    "seen_ids = set()\n",
    "unique_artworks = []\n",
    "\n",
    "for art in artworks:\n",
    "    if art[\"id\"] not in seen_ids:\n",
    "        unique_artworks.append(art)\n",
    "        seen_ids.add(art[\"id\"])\n",
    "\n",
    "# Replace original list\n",
    "artworks = unique_artworks\n",
    "\n",
    "# 6. Fetch detailed descriptions if available\n",
    "for art in tqdm(artworks):\n",
    "    if art['id']:\n",
    "        try:\n",
    "            desc = fetch_artwork_details(art['id'])\n",
    "            art['description'] = desc\n",
    "            time.sleep(0.5)  # be gentle to the API\n",
    "        except Exception as e:\n",
    "            print(f\"Failed to fetch details for {art['id']}:\", e)\n",
    "\n",
    "# 7. Convert to DataFrame\n",
    "df = pd.DataFrame(artworks)\n",
    "\n",
    "# 8. Save to JSON\n",
    "df.to_json(\"data/real_museum_metadata.json\", orient=\"records\", indent=4)\n",
    "\n",
    "print(\"✅ Successfully saved to '../data/real_museum_metadata.json'\")\n",
    "\n"
   ]
  }
 ],
 "metadata": {
  "kernelspec": {
   "display_name": "Python 3 (ipykernel)",
   "language": "python",
   "name": "python3"
  },
  "language_info": {
   "codemirror_mode": {
    "name": "ipython",
    "version": 3
   },
   "file_extension": ".py",
   "mimetype": "text/x-python",
   "name": "python",
   "nbconvert_exporter": "python",
   "pygments_lexer": "ipython3",
   "version": "3.11.5"
  }
 },
 "nbformat": 4,
 "nbformat_minor": 5
}
