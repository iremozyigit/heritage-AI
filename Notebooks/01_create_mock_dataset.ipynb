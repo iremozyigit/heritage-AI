{
 "cells": [
  {
   "cell_type": "code",
   "execution_count": 4,
   "id": "88c82d09-a372-4380-ac54-eaf23185f0e7",
   "metadata": {},
   "outputs": [
    {
     "name": "stdout",
     "output_type": "stream",
     "text": [
      "Mock dataset saved to ../data/mock_artwork_metadata.json\n"
     ]
    }
   ],
   "source": [
    "# 01_create_mock_dataset.ipynb\n",
    "\n",
    "import pandas as pd\n",
    "\n",
    "# Create a mock cultural heritage dataset\n",
    "mock_data = [\n",
    "    {\n",
    "        \"id\": \"1\",\n",
    "        \"title\": \"The Milkmaid\",\n",
    "        \"artist\": \"Johannes Vermeer\",\n",
    "        \"year\": \"1657–1658\",\n",
    "        \"description\": \"A domestic kitchen maid pouring milk, symbolizing purity and diligence, with incredible attention to light and texture.\",\n",
    "        \"style\": \"Dutch Golden Age\",\n",
    "        \"image_url\": \"https://www.rijksmuseum.nl/en/collection/SK-A-2344\"\n",
    "    },\n",
    "    {\n",
    "        \"id\": \"2\",\n",
    "        \"title\": \"The Starry Night\",\n",
    "        \"artist\": \"Vincent van Gogh\",\n",
    "        \"year\": \"1889\",\n",
    "        \"description\": \"A swirling night sky over a quiet village, representing emotional turbulence and wonder.\",\n",
    "        \"style\": \"Post-Impressionism\",\n",
    "        \"image_url\": \"https://uploads7.wikiart.org/images/vincent-van-gogh/the-starry-night-1889.jpg\"\n",
    "    },\n",
    "    {\n",
    "        \"id\": \"3\",\n",
    "        \"title\": \"Girl with a Pearl Earring\",\n",
    "        \"artist\": \"Johannes Vermeer\",\n",
    "        \"year\": \"1665\",\n",
    "        \"description\": \"A portrait of a girl turning towards the viewer, characterized by soft light and mysterious gaze.\",\n",
    "        \"style\": \"Baroque\",\n",
    "        \"image_url\": \"https://www.mauritshuis.nl/en/discover/collection/vermeer-girl-with-a-pearl-earring-670/\"\n",
    "    },\n",
    "    {\n",
    "        \"id\": \"4\",\n",
    "        \"title\": \"Liberty Leading the People\",\n",
    "        \"artist\": \"Eugène Delacroix\",\n",
    "        \"year\": \"1830\",\n",
    "        \"description\": \"A woman personifying Liberty leads a crowd over the bodies of the fallen, holding the French tricolore aloft.\",\n",
    "        \"style\": \"Romanticism\",\n",
    "        \"image_url\": \"https://www.louvre.fr/en/explore/the-palace/liberty-leading-the-people\"\n",
    "    },\n",
    "    {\n",
    "        \"id\": \"5\",\n",
    "        \"title\": \"Composition VIII\",\n",
    "        \"artist\": \"Wassily Kandinsky\",\n",
    "        \"year\": \"1923\",\n",
    "        \"description\": \"A complex composition of geometric shapes and lively colors, representing a symphony of abstract forms.\",\n",
    "        \"style\": \"Abstract Art\",\n",
    "        \"image_url\": \"https://www.guggenheim.org/artwork/1924\"\n",
    "    },\n",
    "]\n",
    "\n",
    "# Convert to DataFrame\n",
    "df = pd.DataFrame(mock_data)\n",
    "\n",
    "# Show the data\n",
    "df\n",
    "\n",
    "# Save to a JSON file inside your data/ folder\n",
    "df.to_json(\"../data/mock_artwork_metadata.json\", orient=\"records\", indent=4)\n",
    "\n",
    "print(\"Mock dataset saved to ../data/mock_artwork_metadata.json\")\n"
   ]
  },
  {
   "cell_type": "code",
   "execution_count": null,
   "id": "cc67e824-6cd4-407f-bbf4-6a546d9511ea",
   "metadata": {},
   "outputs": [],
   "source": []
  }
 ],
 "metadata": {
  "kernelspec": {
   "display_name": "Python 3 (ipykernel)",
   "language": "python",
   "name": "python3"
  },
  "language_info": {
   "codemirror_mode": {
    "name": "ipython",
    "version": 3
   },
   "file_extension": ".py",
   "mimetype": "text/x-python",
   "name": "python",
   "nbconvert_exporter": "python",
   "pygments_lexer": "ipython3",
   "version": "3.10.16"
  }
 },
 "nbformat": 4,
 "nbformat_minor": 5
}
